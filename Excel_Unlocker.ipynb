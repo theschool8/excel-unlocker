{
  "nbformat": 4,
  "nbformat_minor": 0,
  "metadata": {
    "colab": {
      "name": "Excel Unlocker.ipynb",
      "provenance": [],
      "collapsed_sections": [],
      "toc_visible": true,
      "mount_file_id": "1BKj8Uu9UKrFrp2-t8DKlQ27v6CxqeL23",
      "authorship_tag": "ABX9TyPVAoWjw9HHnZN6V78Jq4xi",
      "include_colab_link": true
    },
    "kernelspec": {
      "name": "python3",
      "display_name": "Python 3"
    },
    "language_info": {
      "name": "python"
    }
  },
  "cells": [
    {
      "cell_type": "markdown",
      "metadata": {
        "id": "view-in-github",
        "colab_type": "text"
      },
      "source": [
        "<a href=\"https://colab.research.google.com/github/theschool8/excel-unlocker/blob/main/Excel_Unlocker.ipynb\" target=\"_parent\"><img src=\"https://colab.research.google.com/assets/colab-badge.svg\" alt=\"Open In Colab\"/></a>"
      ]
    },
    {
      "cell_type": "code",
      "execution_count": null,
      "metadata": {
        "id": "ePUNHJ-ukDoG"
      },
      "outputs": [],
      "source": [
        "from openpyxl import load_workbook as wb"
      ]
    },
    {
      "cell_type": "code",
      "source": [
        "workbook = wb('/content/drive/MyDrive/Colab Notebooks/sampel.xlsx')"
      ],
      "metadata": {
        "id": "zXxJsOuLmjmS"
      },
      "execution_count": null,
      "outputs": []
    },
    {
      "cell_type": "code",
      "source": [
        "# Unlock workbook if any\n",
        "try :\n",
        "  workbook.security.lockStructure = False\n",
        "except:\n",
        "  pass\n",
        "\n",
        "# Unlock worksheet\n",
        "for sheet in workbook.sheetnames:\n",
        "  worksheet = workbook[sheet]\n",
        "  worksheet.protection.sheet = False\n",
        "\n",
        "# Save Unprotected workbook\n",
        "workbook.save('/content/drive/MyDrive/Colab Notebooks/unprotected.xlsx')\n",
        "workbook.close()"
      ],
      "metadata": {
        "id": "bXp_w801kgya"
      },
      "execution_count": null,
      "outputs": []
    }
  ]
}